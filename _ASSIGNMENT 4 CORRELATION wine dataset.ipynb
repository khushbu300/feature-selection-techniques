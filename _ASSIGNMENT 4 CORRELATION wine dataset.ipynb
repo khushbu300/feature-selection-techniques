{
 "cells": [
  {
   "cell_type": "code",
   "execution_count": 1,
   "id": "335a966f",
   "metadata": {},
   "outputs": [],
   "source": [
    "from sklearn.datasets import load_wine\n",
    "import pandas as pd\n",
    "import matplotlib.pyplot as plt\n",
    "%matplotlib inline\n",
    "from sklearn.datasets import load_wine"
   ]
  },
  {
   "cell_type": "code",
   "execution_count": 2,
   "id": "b533fdb2",
   "metadata": {},
   "outputs": [],
   "source": [
    "data = load_wine()"
   ]
  },
  {
   "cell_type": "code",
   "execution_count": 3,
   "id": "b4255955",
   "metadata": {},
   "outputs": [
    {
     "data": {
      "text/plain": [
       "dict_keys(['data', 'target', 'frame', 'target_names', 'DESCR', 'feature_names'])"
      ]
     },
     "execution_count": 3,
     "metadata": {},
     "output_type": "execute_result"
    }
   ],
   "source": [
    "data.keys()"
   ]
  },
  {
   "cell_type": "code",
   "execution_count": 4,
   "id": "69cc08d2",
   "metadata": {},
   "outputs": [],
   "source": [
    "# Creating dataframe\n",
    "df = pd.DataFrame(data.data, columns = data.feature_names)"
   ]
  },
  {
   "cell_type": "code",
   "execution_count": 5,
   "id": "cf704f62",
   "metadata": {},
   "outputs": [
    {
     "data": {
      "text/html": [
       "<div>\n",
       "<style scoped>\n",
       "    .dataframe tbody tr th:only-of-type {\n",
       "        vertical-align: middle;\n",
       "    }\n",
       "\n",
       "    .dataframe tbody tr th {\n",
       "        vertical-align: top;\n",
       "    }\n",
       "\n",
       "    .dataframe thead th {\n",
       "        text-align: right;\n",
       "    }\n",
       "</style>\n",
       "<table border=\"1\" class=\"dataframe\">\n",
       "  <thead>\n",
       "    <tr style=\"text-align: right;\">\n",
       "      <th></th>\n",
       "      <th>alcohol</th>\n",
       "      <th>malic_acid</th>\n",
       "      <th>ash</th>\n",
       "      <th>alcalinity_of_ash</th>\n",
       "      <th>magnesium</th>\n",
       "      <th>total_phenols</th>\n",
       "      <th>flavanoids</th>\n",
       "      <th>nonflavanoid_phenols</th>\n",
       "      <th>proanthocyanins</th>\n",
       "      <th>color_intensity</th>\n",
       "      <th>hue</th>\n",
       "      <th>od280/od315_of_diluted_wines</th>\n",
       "      <th>proline</th>\n",
       "    </tr>\n",
       "  </thead>\n",
       "  <tbody>\n",
       "    <tr>\n",
       "      <th>0</th>\n",
       "      <td>14.23</td>\n",
       "      <td>1.71</td>\n",
       "      <td>2.43</td>\n",
       "      <td>15.6</td>\n",
       "      <td>127.0</td>\n",
       "      <td>2.80</td>\n",
       "      <td>3.06</td>\n",
       "      <td>0.28</td>\n",
       "      <td>2.29</td>\n",
       "      <td>5.64</td>\n",
       "      <td>1.04</td>\n",
       "      <td>3.92</td>\n",
       "      <td>1065.0</td>\n",
       "    </tr>\n",
       "    <tr>\n",
       "      <th>1</th>\n",
       "      <td>13.20</td>\n",
       "      <td>1.78</td>\n",
       "      <td>2.14</td>\n",
       "      <td>11.2</td>\n",
       "      <td>100.0</td>\n",
       "      <td>2.65</td>\n",
       "      <td>2.76</td>\n",
       "      <td>0.26</td>\n",
       "      <td>1.28</td>\n",
       "      <td>4.38</td>\n",
       "      <td>1.05</td>\n",
       "      <td>3.40</td>\n",
       "      <td>1050.0</td>\n",
       "    </tr>\n",
       "    <tr>\n",
       "      <th>2</th>\n",
       "      <td>13.16</td>\n",
       "      <td>2.36</td>\n",
       "      <td>2.67</td>\n",
       "      <td>18.6</td>\n",
       "      <td>101.0</td>\n",
       "      <td>2.80</td>\n",
       "      <td>3.24</td>\n",
       "      <td>0.30</td>\n",
       "      <td>2.81</td>\n",
       "      <td>5.68</td>\n",
       "      <td>1.03</td>\n",
       "      <td>3.17</td>\n",
       "      <td>1185.0</td>\n",
       "    </tr>\n",
       "    <tr>\n",
       "      <th>3</th>\n",
       "      <td>14.37</td>\n",
       "      <td>1.95</td>\n",
       "      <td>2.50</td>\n",
       "      <td>16.8</td>\n",
       "      <td>113.0</td>\n",
       "      <td>3.85</td>\n",
       "      <td>3.49</td>\n",
       "      <td>0.24</td>\n",
       "      <td>2.18</td>\n",
       "      <td>7.80</td>\n",
       "      <td>0.86</td>\n",
       "      <td>3.45</td>\n",
       "      <td>1480.0</td>\n",
       "    </tr>\n",
       "    <tr>\n",
       "      <th>4</th>\n",
       "      <td>13.24</td>\n",
       "      <td>2.59</td>\n",
       "      <td>2.87</td>\n",
       "      <td>21.0</td>\n",
       "      <td>118.0</td>\n",
       "      <td>2.80</td>\n",
       "      <td>2.69</td>\n",
       "      <td>0.39</td>\n",
       "      <td>1.82</td>\n",
       "      <td>4.32</td>\n",
       "      <td>1.04</td>\n",
       "      <td>2.93</td>\n",
       "      <td>735.0</td>\n",
       "    </tr>\n",
       "  </tbody>\n",
       "</table>\n",
       "</div>"
      ],
      "text/plain": [
       "   alcohol  malic_acid   ash  alcalinity_of_ash  magnesium  total_phenols  \\\n",
       "0    14.23        1.71  2.43               15.6      127.0           2.80   \n",
       "1    13.20        1.78  2.14               11.2      100.0           2.65   \n",
       "2    13.16        2.36  2.67               18.6      101.0           2.80   \n",
       "3    14.37        1.95  2.50               16.8      113.0           3.85   \n",
       "4    13.24        2.59  2.87               21.0      118.0           2.80   \n",
       "\n",
       "   flavanoids  nonflavanoid_phenols  proanthocyanins  color_intensity   hue  \\\n",
       "0        3.06                  0.28             2.29             5.64  1.04   \n",
       "1        2.76                  0.26             1.28             4.38  1.05   \n",
       "2        3.24                  0.30             2.81             5.68  1.03   \n",
       "3        3.49                  0.24             2.18             7.80  0.86   \n",
       "4        2.69                  0.39             1.82             4.32  1.04   \n",
       "\n",
       "   od280/od315_of_diluted_wines  proline  \n",
       "0                          3.92   1065.0  \n",
       "1                          3.40   1050.0  \n",
       "2                          3.17   1185.0  \n",
       "3                          3.45   1480.0  \n",
       "4                          2.93    735.0  "
      ]
     },
     "execution_count": 5,
     "metadata": {},
     "output_type": "execute_result"
    }
   ],
   "source": [
    "df.head()"
   ]
  },
  {
   "cell_type": "code",
   "execution_count": 6,
   "id": "a693c2b8",
   "metadata": {},
   "outputs": [
    {
     "data": {
      "text/plain": [
       "array([0, 0, 0, 0, 0, 0, 0, 0, 0, 0, 0, 0, 0, 0, 0, 0, 0, 0, 0, 0, 0, 0,\n",
       "       0, 0, 0, 0, 0, 0, 0, 0, 0, 0, 0, 0, 0, 0, 0, 0, 0, 0, 0, 0, 0, 0,\n",
       "       0, 0, 0, 0, 0, 0, 0, 0, 0, 0, 0, 0, 0, 0, 0, 1, 1, 1, 1, 1, 1, 1,\n",
       "       1, 1, 1, 1, 1, 1, 1, 1, 1, 1, 1, 1, 1, 1, 1, 1, 1, 1, 1, 1, 1, 1,\n",
       "       1, 1, 1, 1, 1, 1, 1, 1, 1, 1, 1, 1, 1, 1, 1, 1, 1, 1, 1, 1, 1, 1,\n",
       "       1, 1, 1, 1, 1, 1, 1, 1, 1, 1, 1, 1, 1, 1, 1, 1, 1, 1, 1, 1, 2, 2,\n",
       "       2, 2, 2, 2, 2, 2, 2, 2, 2, 2, 2, 2, 2, 2, 2, 2, 2, 2, 2, 2, 2, 2,\n",
       "       2, 2, 2, 2, 2, 2, 2, 2, 2, 2, 2, 2, 2, 2, 2, 2, 2, 2, 2, 2, 2, 2,\n",
       "       2, 2])"
      ]
     },
     "execution_count": 6,
     "metadata": {},
     "output_type": "execute_result"
    }
   ],
   "source": [
    "data.target"
   ]
  },
  {
   "cell_type": "code",
   "execution_count": 7,
   "id": "509b9092",
   "metadata": {},
   "outputs": [],
   "source": [
    "df[\"wine_class\"] = data.target"
   ]
  },
  {
   "cell_type": "code",
   "execution_count": 8,
   "id": "632a0d9b",
   "metadata": {},
   "outputs": [
    {
     "data": {
      "text/html": [
       "<div>\n",
       "<style scoped>\n",
       "    .dataframe tbody tr th:only-of-type {\n",
       "        vertical-align: middle;\n",
       "    }\n",
       "\n",
       "    .dataframe tbody tr th {\n",
       "        vertical-align: top;\n",
       "    }\n",
       "\n",
       "    .dataframe thead th {\n",
       "        text-align: right;\n",
       "    }\n",
       "</style>\n",
       "<table border=\"1\" class=\"dataframe\">\n",
       "  <thead>\n",
       "    <tr style=\"text-align: right;\">\n",
       "      <th></th>\n",
       "      <th>alcohol</th>\n",
       "      <th>malic_acid</th>\n",
       "      <th>ash</th>\n",
       "      <th>alcalinity_of_ash</th>\n",
       "      <th>magnesium</th>\n",
       "      <th>total_phenols</th>\n",
       "      <th>flavanoids</th>\n",
       "      <th>nonflavanoid_phenols</th>\n",
       "      <th>proanthocyanins</th>\n",
       "      <th>color_intensity</th>\n",
       "      <th>hue</th>\n",
       "      <th>od280/od315_of_diluted_wines</th>\n",
       "      <th>proline</th>\n",
       "      <th>wine_class</th>\n",
       "    </tr>\n",
       "  </thead>\n",
       "  <tbody>\n",
       "    <tr>\n",
       "      <th>0</th>\n",
       "      <td>14.23</td>\n",
       "      <td>1.71</td>\n",
       "      <td>2.43</td>\n",
       "      <td>15.6</td>\n",
       "      <td>127.0</td>\n",
       "      <td>2.80</td>\n",
       "      <td>3.06</td>\n",
       "      <td>0.28</td>\n",
       "      <td>2.29</td>\n",
       "      <td>5.64</td>\n",
       "      <td>1.04</td>\n",
       "      <td>3.92</td>\n",
       "      <td>1065.0</td>\n",
       "      <td>0</td>\n",
       "    </tr>\n",
       "    <tr>\n",
       "      <th>1</th>\n",
       "      <td>13.20</td>\n",
       "      <td>1.78</td>\n",
       "      <td>2.14</td>\n",
       "      <td>11.2</td>\n",
       "      <td>100.0</td>\n",
       "      <td>2.65</td>\n",
       "      <td>2.76</td>\n",
       "      <td>0.26</td>\n",
       "      <td>1.28</td>\n",
       "      <td>4.38</td>\n",
       "      <td>1.05</td>\n",
       "      <td>3.40</td>\n",
       "      <td>1050.0</td>\n",
       "      <td>0</td>\n",
       "    </tr>\n",
       "    <tr>\n",
       "      <th>2</th>\n",
       "      <td>13.16</td>\n",
       "      <td>2.36</td>\n",
       "      <td>2.67</td>\n",
       "      <td>18.6</td>\n",
       "      <td>101.0</td>\n",
       "      <td>2.80</td>\n",
       "      <td>3.24</td>\n",
       "      <td>0.30</td>\n",
       "      <td>2.81</td>\n",
       "      <td>5.68</td>\n",
       "      <td>1.03</td>\n",
       "      <td>3.17</td>\n",
       "      <td>1185.0</td>\n",
       "      <td>0</td>\n",
       "    </tr>\n",
       "    <tr>\n",
       "      <th>3</th>\n",
       "      <td>14.37</td>\n",
       "      <td>1.95</td>\n",
       "      <td>2.50</td>\n",
       "      <td>16.8</td>\n",
       "      <td>113.0</td>\n",
       "      <td>3.85</td>\n",
       "      <td>3.49</td>\n",
       "      <td>0.24</td>\n",
       "      <td>2.18</td>\n",
       "      <td>7.80</td>\n",
       "      <td>0.86</td>\n",
       "      <td>3.45</td>\n",
       "      <td>1480.0</td>\n",
       "      <td>0</td>\n",
       "    </tr>\n",
       "    <tr>\n",
       "      <th>4</th>\n",
       "      <td>13.24</td>\n",
       "      <td>2.59</td>\n",
       "      <td>2.87</td>\n",
       "      <td>21.0</td>\n",
       "      <td>118.0</td>\n",
       "      <td>2.80</td>\n",
       "      <td>2.69</td>\n",
       "      <td>0.39</td>\n",
       "      <td>1.82</td>\n",
       "      <td>4.32</td>\n",
       "      <td>1.04</td>\n",
       "      <td>2.93</td>\n",
       "      <td>735.0</td>\n",
       "      <td>0</td>\n",
       "    </tr>\n",
       "  </tbody>\n",
       "</table>\n",
       "</div>"
      ],
      "text/plain": [
       "   alcohol  malic_acid   ash  alcalinity_of_ash  magnesium  total_phenols  \\\n",
       "0    14.23        1.71  2.43               15.6      127.0           2.80   \n",
       "1    13.20        1.78  2.14               11.2      100.0           2.65   \n",
       "2    13.16        2.36  2.67               18.6      101.0           2.80   \n",
       "3    14.37        1.95  2.50               16.8      113.0           3.85   \n",
       "4    13.24        2.59  2.87               21.0      118.0           2.80   \n",
       "\n",
       "   flavanoids  nonflavanoid_phenols  proanthocyanins  color_intensity   hue  \\\n",
       "0        3.06                  0.28             2.29             5.64  1.04   \n",
       "1        2.76                  0.26             1.28             4.38  1.05   \n",
       "2        3.24                  0.30             2.81             5.68  1.03   \n",
       "3        3.49                  0.24             2.18             7.80  0.86   \n",
       "4        2.69                  0.39             1.82             4.32  1.04   \n",
       "\n",
       "   od280/od315_of_diluted_wines  proline  wine_class  \n",
       "0                          3.92   1065.0           0  \n",
       "1                          3.40   1050.0           0  \n",
       "2                          3.17   1185.0           0  \n",
       "3                          3.45   1480.0           0  \n",
       "4                          2.93    735.0           0  "
      ]
     },
     "execution_count": 8,
     "metadata": {},
     "output_type": "execute_result"
    }
   ],
   "source": [
    "df.head()"
   ]
  },
  {
   "cell_type": "code",
   "execution_count": 9,
   "id": "9a1ed99c",
   "metadata": {},
   "outputs": [
    {
     "data": {
      "text/plain": [
       "(178, 14)"
      ]
     },
     "execution_count": 9,
     "metadata": {},
     "output_type": "execute_result"
    }
   ],
   "source": [
    "df.shape"
   ]
  },
  {
   "cell_type": "code",
   "execution_count": 10,
   "id": "231c39c3",
   "metadata": {},
   "outputs": [],
   "source": [
    "# seperating data into independent and dependent variables\n",
    "X = df.drop(\"wine_class\", axis = 1)\n",
    "y = df[\"wine_class\"]"
   ]
  },
  {
   "cell_type": "code",
   "execution_count": 11,
   "id": "9f95d3e3",
   "metadata": {},
   "outputs": [],
   "source": [
    "# separate dataset into train and test\n",
    "from sklearn.model_selection import train_test_split\n",
    "X_train, X_test, y_train, y_test = train_test_split(X, y, test_size = 0.2,random_state = 20)"
   ]
  },
  {
   "cell_type": "code",
   "execution_count": 12,
   "id": "78f7c170",
   "metadata": {},
   "outputs": [
    {
     "name": "stdout",
     "output_type": "stream",
     "text": [
      "(142, 13) (36, 13)\n",
      "(142,) (36,)\n"
     ]
    }
   ],
   "source": [
    "print(X_train.shape, X_test.shape)\n",
    "print(y_train.shape, y_test.shape)"
   ]
  },
  {
   "cell_type": "code",
   "execution_count": 13,
   "id": "771f0868",
   "metadata": {},
   "outputs": [
    {
     "data": {
      "text/html": [
       "<div>\n",
       "<style scoped>\n",
       "    .dataframe tbody tr th:only-of-type {\n",
       "        vertical-align: middle;\n",
       "    }\n",
       "\n",
       "    .dataframe tbody tr th {\n",
       "        vertical-align: top;\n",
       "    }\n",
       "\n",
       "    .dataframe thead th {\n",
       "        text-align: right;\n",
       "    }\n",
       "</style>\n",
       "<table border=\"1\" class=\"dataframe\">\n",
       "  <thead>\n",
       "    <tr style=\"text-align: right;\">\n",
       "      <th></th>\n",
       "      <th>alcohol</th>\n",
       "      <th>malic_acid</th>\n",
       "      <th>ash</th>\n",
       "      <th>alcalinity_of_ash</th>\n",
       "      <th>magnesium</th>\n",
       "      <th>total_phenols</th>\n",
       "      <th>flavanoids</th>\n",
       "      <th>nonflavanoid_phenols</th>\n",
       "      <th>proanthocyanins</th>\n",
       "      <th>color_intensity</th>\n",
       "      <th>hue</th>\n",
       "      <th>od280/od315_of_diluted_wines</th>\n",
       "      <th>proline</th>\n",
       "    </tr>\n",
       "  </thead>\n",
       "  <tbody>\n",
       "    <tr>\n",
       "      <th>alcohol</th>\n",
       "      <td>1.000000</td>\n",
       "      <td>0.084737</td>\n",
       "      <td>0.238504</td>\n",
       "      <td>-0.310634</td>\n",
       "      <td>0.262040</td>\n",
       "      <td>0.300296</td>\n",
       "      <td>0.264235</td>\n",
       "      <td>-0.176817</td>\n",
       "      <td>0.144887</td>\n",
       "      <td>0.531956</td>\n",
       "      <td>-0.085656</td>\n",
       "      <td>0.119603</td>\n",
       "      <td>0.651337</td>\n",
       "    </tr>\n",
       "    <tr>\n",
       "      <th>malic_acid</th>\n",
       "      <td>0.084737</td>\n",
       "      <td>1.000000</td>\n",
       "      <td>0.136525</td>\n",
       "      <td>0.285176</td>\n",
       "      <td>-0.072097</td>\n",
       "      <td>-0.362465</td>\n",
       "      <td>-0.411404</td>\n",
       "      <td>0.298525</td>\n",
       "      <td>-0.245687</td>\n",
       "      <td>0.214041</td>\n",
       "      <td>-0.551596</td>\n",
       "      <td>-0.372400</td>\n",
       "      <td>-0.220758</td>\n",
       "    </tr>\n",
       "    <tr>\n",
       "      <th>ash</th>\n",
       "      <td>0.238504</td>\n",
       "      <td>0.136525</td>\n",
       "      <td>1.000000</td>\n",
       "      <td>0.462775</td>\n",
       "      <td>0.284913</td>\n",
       "      <td>0.192356</td>\n",
       "      <td>0.181378</td>\n",
       "      <td>0.178239</td>\n",
       "      <td>0.010443</td>\n",
       "      <td>0.242024</td>\n",
       "      <td>-0.047536</td>\n",
       "      <td>0.052666</td>\n",
       "      <td>0.238263</td>\n",
       "    </tr>\n",
       "    <tr>\n",
       "      <th>alcalinity_of_ash</th>\n",
       "      <td>-0.310634</td>\n",
       "      <td>0.285176</td>\n",
       "      <td>0.462775</td>\n",
       "      <td>1.000000</td>\n",
       "      <td>-0.071976</td>\n",
       "      <td>-0.262415</td>\n",
       "      <td>-0.293933</td>\n",
       "      <td>0.408855</td>\n",
       "      <td>-0.153181</td>\n",
       "      <td>0.003484</td>\n",
       "      <td>-0.229663</td>\n",
       "      <td>-0.241719</td>\n",
       "      <td>-0.403118</td>\n",
       "    </tr>\n",
       "    <tr>\n",
       "      <th>magnesium</th>\n",
       "      <td>0.262040</td>\n",
       "      <td>-0.072097</td>\n",
       "      <td>0.284913</td>\n",
       "      <td>-0.071976</td>\n",
       "      <td>1.000000</td>\n",
       "      <td>0.204519</td>\n",
       "      <td>0.220532</td>\n",
       "      <td>-0.265754</td>\n",
       "      <td>0.299299</td>\n",
       "      <td>0.160122</td>\n",
       "      <td>0.083284</td>\n",
       "      <td>0.090491</td>\n",
       "      <td>0.387656</td>\n",
       "    </tr>\n",
       "    <tr>\n",
       "      <th>total_phenols</th>\n",
       "      <td>0.300296</td>\n",
       "      <td>-0.362465</td>\n",
       "      <td>0.192356</td>\n",
       "      <td>-0.262415</td>\n",
       "      <td>0.204519</td>\n",
       "      <td>1.000000</td>\n",
       "      <td>0.868696</td>\n",
       "      <td>-0.413767</td>\n",
       "      <td>0.608839</td>\n",
       "      <td>-0.061645</td>\n",
       "      <td>0.475275</td>\n",
       "      <td>0.696962</td>\n",
       "      <td>0.500040</td>\n",
       "    </tr>\n",
       "    <tr>\n",
       "      <th>flavanoids</th>\n",
       "      <td>0.264235</td>\n",
       "      <td>-0.411404</td>\n",
       "      <td>0.181378</td>\n",
       "      <td>-0.293933</td>\n",
       "      <td>0.220532</td>\n",
       "      <td>0.868696</td>\n",
       "      <td>1.000000</td>\n",
       "      <td>-0.514867</td>\n",
       "      <td>0.630365</td>\n",
       "      <td>-0.166237</td>\n",
       "      <td>0.564159</td>\n",
       "      <td>0.773183</td>\n",
       "      <td>0.493024</td>\n",
       "    </tr>\n",
       "    <tr>\n",
       "      <th>nonflavanoid_phenols</th>\n",
       "      <td>-0.176817</td>\n",
       "      <td>0.298525</td>\n",
       "      <td>0.178239</td>\n",
       "      <td>0.408855</td>\n",
       "      <td>-0.265754</td>\n",
       "      <td>-0.413767</td>\n",
       "      <td>-0.514867</td>\n",
       "      <td>1.000000</td>\n",
       "      <td>-0.342501</td>\n",
       "      <td>0.163703</td>\n",
       "      <td>-0.294768</td>\n",
       "      <td>-0.487636</td>\n",
       "      <td>-0.321337</td>\n",
       "    </tr>\n",
       "    <tr>\n",
       "      <th>proanthocyanins</th>\n",
       "      <td>0.144887</td>\n",
       "      <td>-0.245687</td>\n",
       "      <td>0.010443</td>\n",
       "      <td>-0.153181</td>\n",
       "      <td>0.299299</td>\n",
       "      <td>0.608839</td>\n",
       "      <td>0.630365</td>\n",
       "      <td>-0.342501</td>\n",
       "      <td>1.000000</td>\n",
       "      <td>-0.048456</td>\n",
       "      <td>0.338553</td>\n",
       "      <td>0.503065</td>\n",
       "      <td>0.313201</td>\n",
       "    </tr>\n",
       "    <tr>\n",
       "      <th>color_intensity</th>\n",
       "      <td>0.531956</td>\n",
       "      <td>0.214041</td>\n",
       "      <td>0.242024</td>\n",
       "      <td>0.003484</td>\n",
       "      <td>0.160122</td>\n",
       "      <td>-0.061645</td>\n",
       "      <td>-0.166237</td>\n",
       "      <td>0.163703</td>\n",
       "      <td>-0.048456</td>\n",
       "      <td>1.000000</td>\n",
       "      <td>-0.537466</td>\n",
       "      <td>-0.433868</td>\n",
       "      <td>0.301785</td>\n",
       "    </tr>\n",
       "    <tr>\n",
       "      <th>hue</th>\n",
       "      <td>-0.085656</td>\n",
       "      <td>-0.551596</td>\n",
       "      <td>-0.047536</td>\n",
       "      <td>-0.229663</td>\n",
       "      <td>0.083284</td>\n",
       "      <td>0.475275</td>\n",
       "      <td>0.564159</td>\n",
       "      <td>-0.294768</td>\n",
       "      <td>0.338553</td>\n",
       "      <td>-0.537466</td>\n",
       "      <td>1.000000</td>\n",
       "      <td>0.574805</td>\n",
       "      <td>0.228719</td>\n",
       "    </tr>\n",
       "    <tr>\n",
       "      <th>od280/od315_of_diluted_wines</th>\n",
       "      <td>0.119603</td>\n",
       "      <td>-0.372400</td>\n",
       "      <td>0.052666</td>\n",
       "      <td>-0.241719</td>\n",
       "      <td>0.090491</td>\n",
       "      <td>0.696962</td>\n",
       "      <td>0.773183</td>\n",
       "      <td>-0.487636</td>\n",
       "      <td>0.503065</td>\n",
       "      <td>-0.433868</td>\n",
       "      <td>0.574805</td>\n",
       "      <td>1.000000</td>\n",
       "      <td>0.316612</td>\n",
       "    </tr>\n",
       "    <tr>\n",
       "      <th>proline</th>\n",
       "      <td>0.651337</td>\n",
       "      <td>-0.220758</td>\n",
       "      <td>0.238263</td>\n",
       "      <td>-0.403118</td>\n",
       "      <td>0.387656</td>\n",
       "      <td>0.500040</td>\n",
       "      <td>0.493024</td>\n",
       "      <td>-0.321337</td>\n",
       "      <td>0.313201</td>\n",
       "      <td>0.301785</td>\n",
       "      <td>0.228719</td>\n",
       "      <td>0.316612</td>\n",
       "      <td>1.000000</td>\n",
       "    </tr>\n",
       "  </tbody>\n",
       "</table>\n",
       "</div>"
      ],
      "text/plain": [
       "                               alcohol  malic_acid       ash  \\\n",
       "alcohol                       1.000000    0.084737  0.238504   \n",
       "malic_acid                    0.084737    1.000000  0.136525   \n",
       "ash                           0.238504    0.136525  1.000000   \n",
       "alcalinity_of_ash            -0.310634    0.285176  0.462775   \n",
       "magnesium                     0.262040   -0.072097  0.284913   \n",
       "total_phenols                 0.300296   -0.362465  0.192356   \n",
       "flavanoids                    0.264235   -0.411404  0.181378   \n",
       "nonflavanoid_phenols         -0.176817    0.298525  0.178239   \n",
       "proanthocyanins               0.144887   -0.245687  0.010443   \n",
       "color_intensity               0.531956    0.214041  0.242024   \n",
       "hue                          -0.085656   -0.551596 -0.047536   \n",
       "od280/od315_of_diluted_wines  0.119603   -0.372400  0.052666   \n",
       "proline                       0.651337   -0.220758  0.238263   \n",
       "\n",
       "                              alcalinity_of_ash  magnesium  total_phenols  \\\n",
       "alcohol                               -0.310634   0.262040       0.300296   \n",
       "malic_acid                             0.285176  -0.072097      -0.362465   \n",
       "ash                                    0.462775   0.284913       0.192356   \n",
       "alcalinity_of_ash                      1.000000  -0.071976      -0.262415   \n",
       "magnesium                             -0.071976   1.000000       0.204519   \n",
       "total_phenols                         -0.262415   0.204519       1.000000   \n",
       "flavanoids                            -0.293933   0.220532       0.868696   \n",
       "nonflavanoid_phenols                   0.408855  -0.265754      -0.413767   \n",
       "proanthocyanins                       -0.153181   0.299299       0.608839   \n",
       "color_intensity                        0.003484   0.160122      -0.061645   \n",
       "hue                                   -0.229663   0.083284       0.475275   \n",
       "od280/od315_of_diluted_wines          -0.241719   0.090491       0.696962   \n",
       "proline                               -0.403118   0.387656       0.500040   \n",
       "\n",
       "                              flavanoids  nonflavanoid_phenols  \\\n",
       "alcohol                         0.264235             -0.176817   \n",
       "malic_acid                     -0.411404              0.298525   \n",
       "ash                             0.181378              0.178239   \n",
       "alcalinity_of_ash              -0.293933              0.408855   \n",
       "magnesium                       0.220532             -0.265754   \n",
       "total_phenols                   0.868696             -0.413767   \n",
       "flavanoids                      1.000000             -0.514867   \n",
       "nonflavanoid_phenols           -0.514867              1.000000   \n",
       "proanthocyanins                 0.630365             -0.342501   \n",
       "color_intensity                -0.166237              0.163703   \n",
       "hue                             0.564159             -0.294768   \n",
       "od280/od315_of_diluted_wines    0.773183             -0.487636   \n",
       "proline                         0.493024             -0.321337   \n",
       "\n",
       "                              proanthocyanins  color_intensity       hue  \\\n",
       "alcohol                              0.144887         0.531956 -0.085656   \n",
       "malic_acid                          -0.245687         0.214041 -0.551596   \n",
       "ash                                  0.010443         0.242024 -0.047536   \n",
       "alcalinity_of_ash                   -0.153181         0.003484 -0.229663   \n",
       "magnesium                            0.299299         0.160122  0.083284   \n",
       "total_phenols                        0.608839        -0.061645  0.475275   \n",
       "flavanoids                           0.630365        -0.166237  0.564159   \n",
       "nonflavanoid_phenols                -0.342501         0.163703 -0.294768   \n",
       "proanthocyanins                      1.000000        -0.048456  0.338553   \n",
       "color_intensity                     -0.048456         1.000000 -0.537466   \n",
       "hue                                  0.338553        -0.537466  1.000000   \n",
       "od280/od315_of_diluted_wines         0.503065        -0.433868  0.574805   \n",
       "proline                              0.313201         0.301785  0.228719   \n",
       "\n",
       "                              od280/od315_of_diluted_wines   proline  \n",
       "alcohol                                           0.119603  0.651337  \n",
       "malic_acid                                       -0.372400 -0.220758  \n",
       "ash                                               0.052666  0.238263  \n",
       "alcalinity_of_ash                                -0.241719 -0.403118  \n",
       "magnesium                                         0.090491  0.387656  \n",
       "total_phenols                                     0.696962  0.500040  \n",
       "flavanoids                                        0.773183  0.493024  \n",
       "nonflavanoid_phenols                             -0.487636 -0.321337  \n",
       "proanthocyanins                                   0.503065  0.313201  \n",
       "color_intensity                                  -0.433868  0.301785  \n",
       "hue                                               0.574805  0.228719  \n",
       "od280/od315_of_diluted_wines                      1.000000  0.316612  \n",
       "proline                                           0.316612  1.000000  "
      ]
     },
     "execution_count": 13,
     "metadata": {},
     "output_type": "execute_result"
    }
   ],
   "source": [
    "cor = X_train.corr()\n",
    "cor"
   ]
  },
  {
   "cell_type": "code",
   "execution_count": 14,
   "id": "471b744e",
   "metadata": {},
   "outputs": [
    {
     "data": {
      "image/png": "[encoded data removed]",
      "text/plain": [
       "<Figure size 720x576 with 2 Axes>"
      ]
     },
     "metadata": {
      "needs_background": "light"
     },
     "output_type": "display_data"
    }
   ],
   "source": [
    "import seaborn as sns\n",
    "plt.figure(figsize=(10,8))\n",
    "sns.heatmap(cor, annot=True,linewidth = 2)\n",
    "plt.show()"
   ]
  },
  {
   "cell_type": "code",
   "execution_count": 15,
   "id": "cd791591",
   "metadata": {},
   "outputs": [],
   "source": [
    "def correlation(dataset, threshold):\n",
    "    corr_col = set() \n",
    "    corr_matrix = dataset.corr()\n",
    "    for i in range(len(corr_matrix.columns)): \n",
    "        for j in range(i): \n",
    "            if abs(corr_matrix.iloc[i, j]) > threshold:\n",
    "                colname = corr_matrix.columns[i]  \n",
    "                corr_col.add(colname)\n",
    "    return corr_col"
   ]
  },
  {
   "cell_type": "code",
   "execution_count": 16,
   "id": "c2ceb9da",
   "metadata": {},
   "outputs": [
    {
     "data": {
      "text/plain": [
       "7"
      ]
     },
     "execution_count": 16,
     "metadata": {},
     "output_type": "execute_result"
    }
   ],
   "source": [
    "corr_features = correlation(X_train, 0.5) \n",
    "len(set(corr_features))"
   ]
  },
  {
   "cell_type": "code",
   "execution_count": 17,
   "id": "cfba1ac4",
   "metadata": {},
   "outputs": [
    {
     "data": {
      "text/plain": [
       "{'color_intensity',\n",
       " 'flavanoids',\n",
       " 'hue',\n",
       " 'nonflavanoid_phenols',\n",
       " 'od280/od315_of_diluted_wines',\n",
       " 'proanthocyanins',\n",
       " 'proline'}"
      ]
     },
     "execution_count": 17,
     "metadata": {},
     "output_type": "execute_result"
    }
   ],
   "source": [
    "corr_features"
   ]
  },
  {
   "cell_type": "code",
   "execution_count": 18,
   "id": "a73949a7",
   "metadata": {},
   "outputs": [],
   "source": [
    "# Dropping the correlated columns \n",
    "X_train.drop(corr_features, axis = 1,inplace = True)\n",
    "X_test.drop(corr_features, axis = 1, inplace = True)"
   ]
  },
  {
   "cell_type": "code",
   "execution_count": 19,
   "id": "7d63f917",
   "metadata": {},
   "outputs": [
    {
     "data": {
      "text/html": [
       "<div>\n",
       "<style scoped>\n",
       "    .dataframe tbody tr th:only-of-type {\n",
       "        vertical-align: middle;\n",
       "    }\n",
       "\n",
       "    .dataframe tbody tr th {\n",
       "        vertical-align: top;\n",
       "    }\n",
       "\n",
       "    .dataframe thead th {\n",
       "        text-align: right;\n",
       "    }\n",
       "</style>\n",
       "<table border=\"1\" class=\"dataframe\">\n",
       "  <thead>\n",
       "    <tr style=\"text-align: right;\">\n",
       "      <th></th>\n",
       "      <th>alcohol</th>\n",
       "      <th>malic_acid</th>\n",
       "      <th>ash</th>\n",
       "      <th>alcalinity_of_ash</th>\n",
       "      <th>magnesium</th>\n",
       "      <th>total_phenols</th>\n",
       "    </tr>\n",
       "  </thead>\n",
       "  <tbody>\n",
       "    <tr>\n",
       "      <th>1</th>\n",
       "      <td>13.20</td>\n",
       "      <td>1.78</td>\n",
       "      <td>2.14</td>\n",
       "      <td>11.2</td>\n",
       "      <td>100.0</td>\n",
       "      <td>2.65</td>\n",
       "    </tr>\n",
       "    <tr>\n",
       "      <th>67</th>\n",
       "      <td>12.37</td>\n",
       "      <td>1.17</td>\n",
       "      <td>1.92</td>\n",
       "      <td>19.6</td>\n",
       "      <td>78.0</td>\n",
       "      <td>2.11</td>\n",
       "    </tr>\n",
       "  </tbody>\n",
       "</table>\n",
       "</div>"
      ],
      "text/plain": [
       "    alcohol  malic_acid   ash  alcalinity_of_ash  magnesium  total_phenols\n",
       "1     13.20        1.78  2.14               11.2      100.0           2.65\n",
       "67    12.37        1.17  1.92               19.6       78.0           2.11"
      ]
     },
     "execution_count": 19,
     "metadata": {},
     "output_type": "execute_result"
    }
   ],
   "source": [
    "X_train.head(2)"
   ]
  },
  {
   "cell_type": "code",
   "execution_count": 20,
   "id": "fcb3c22a",
   "metadata": {},
   "outputs": [
    {
     "data": {
      "text/html": [
       "<div>\n",
       "<style scoped>\n",
       "    .dataframe tbody tr th:only-of-type {\n",
       "        vertical-align: middle;\n",
       "    }\n",
       "\n",
       "    .dataframe tbody tr th {\n",
       "        vertical-align: top;\n",
       "    }\n",
       "\n",
       "    .dataframe thead th {\n",
       "        text-align: right;\n",
       "    }\n",
       "</style>\n",
       "<table border=\"1\" class=\"dataframe\">\n",
       "  <thead>\n",
       "    <tr style=\"text-align: right;\">\n",
       "      <th></th>\n",
       "      <th>alcohol</th>\n",
       "      <th>malic_acid</th>\n",
       "      <th>ash</th>\n",
       "      <th>alcalinity_of_ash</th>\n",
       "      <th>magnesium</th>\n",
       "      <th>total_phenols</th>\n",
       "    </tr>\n",
       "  </thead>\n",
       "  <tbody>\n",
       "    <tr>\n",
       "      <th>111</th>\n",
       "      <td>12.52</td>\n",
       "      <td>2.43</td>\n",
       "      <td>2.17</td>\n",
       "      <td>21.0</td>\n",
       "      <td>88.0</td>\n",
       "      <td>2.55</td>\n",
       "    </tr>\n",
       "    <tr>\n",
       "      <th>177</th>\n",
       "      <td>14.13</td>\n",
       "      <td>4.10</td>\n",
       "      <td>2.74</td>\n",
       "      <td>24.5</td>\n",
       "      <td>96.0</td>\n",
       "      <td>2.05</td>\n",
       "    </tr>\n",
       "  </tbody>\n",
       "</table>\n",
       "</div>"
      ],
      "text/plain": [
       "     alcohol  malic_acid   ash  alcalinity_of_ash  magnesium  total_phenols\n",
       "111    12.52        2.43  2.17               21.0       88.0           2.55\n",
       "177    14.13        4.10  2.74               24.5       96.0           2.05"
      ]
     },
     "execution_count": 20,
     "metadata": {},
     "output_type": "execute_result"
    }
   ],
   "source": [
    "X_test.head(2)"
   ]
  },
  {
   "cell_type": "code",
   "execution_count": 21,
   "id": "ca47a1b4",
   "metadata": {},
   "outputs": [],
   "source": [
    "from sklearn.preprocessing import StandardScaler\n",
    "scaler = StandardScaler()"
   ]
  },
  {
   "cell_type": "code",
   "execution_count": 22,
   "id": "82fbbaf5",
   "metadata": {},
   "outputs": [],
   "source": [
    "X_train=scaler.fit_transform(X_train)"
   ]
  },
  {
   "cell_type": "code",
   "execution_count": 23,
   "id": "6d43fb21",
   "metadata": {},
   "outputs": [],
   "source": [
    "X_test = scaler.transform(X_test)"
   ]
  },
  {
   "cell_type": "code",
   "execution_count": 24,
   "id": "b6f62c04",
   "metadata": {},
   "outputs": [
    {
     "data": {
      "text/plain": [
       "array([[ 0.24189065, -0.47902084, -0.81155835, -2.4081981 , -0.0343188 ,\n",
       "         0.54161031],\n",
       "       [-0.81793211, -1.03233174, -1.62104376,  0.07752247, -1.50297555,\n",
       "        -0.315753  ]])"
      ]
     },
     "execution_count": 24,
     "metadata": {},
     "output_type": "execute_result"
    }
   ],
   "source": [
    "X_train[:2]"
   ]
  },
  {
   "cell_type": "code",
   "execution_count": 25,
   "id": "0f5326b2",
   "metadata": {},
   "outputs": [
    {
     "data": {
      "text/plain": [
       "array([[-0.62639788,  0.11057275, -0.70117398,  0.49180924, -0.8354043 ,\n",
       "         0.38283933],\n",
       "       [ 1.42940291,  1.62537474,  1.39612912,  1.52752614, -0.3013473 ,\n",
       "        -0.41101559]])"
      ]
     },
     "execution_count": 25,
     "metadata": {},
     "output_type": "execute_result"
    }
   ],
   "source": [
    "X_test[:2]"
   ]
  },
  {
   "cell_type": "code",
   "execution_count": 26,
   "id": "2119633c",
   "metadata": {},
   "outputs": [
    {
     "data": {
      "text/plain": [
       "SVC()"
      ]
     },
     "execution_count": 26,
     "metadata": {},
     "output_type": "execute_result"
    }
   ],
   "source": [
    "from sklearn.svm import SVC\n",
    "model = SVC(kernel=\"rbf\")\n",
    "model.fit(X_train, y_train)"
   ]
  },
  {
   "cell_type": "code",
   "execution_count": 27,
   "id": "d139b66b",
   "metadata": {},
   "outputs": [],
   "source": [
    "y_predict = model.predict(X_test)"
   ]
  },
  {
   "cell_type": "markdown",
   "id": "0b70fcb2",
   "metadata": {},
   "source": [
    "# Accuracy of the model"
   ]
  },
  {
   "cell_type": "code",
   "execution_count": 28,
   "id": "61dbf831",
   "metadata": {},
   "outputs": [
    {
     "data": {
      "text/plain": [
       "0.9724627224627225"
      ]
     },
     "execution_count": 28,
     "metadata": {},
     "output_type": "execute_result"
    }
   ],
   "source": [
    "from sklearn.metrics import f1_score\n",
    "f1_score(y_test,y_predict, average='weighted') "
   ]
  },
  {
   "cell_type": "code",
   "execution_count": 29,
   "id": "c582570a",
   "metadata": {},
   "outputs": [
    {
     "data": {
      "text/plain": [
       "{0, 1, 2}"
      ]
     },
     "execution_count": 29,
     "metadata": {},
     "output_type": "execute_result"
    }
   ],
   "source": [
    "set(df[\"wine_class\"])"
   ]
  },
  {
   "cell_type": "code",
   "execution_count": 30,
   "id": "f774ccfe",
   "metadata": {},
   "outputs": [
    {
     "data": {
      "text/plain": [
       "<matplotlib.collections.PathCollection at 0x23cc31b6550>"
      ]
     },
     "execution_count": 30,
     "metadata": {},
     "output_type": "execute_result"
    },
    {
     "data": {
      "image/png": "[encoded data removed]",
      "text/plain": [
       "<Figure size 432x288 with 1 Axes>"
      ]
     },
     "metadata": {
      "needs_background": "light"
     },
     "output_type": "display_data"
    }
   ],
   "source": [
    "import matplotlib.pyplot as plt\n",
    "plt.scatter(X_test[:,1],X_test[:,4],c = y_test)"
   ]
  },
  {
   "cell_type": "code",
   "execution_count": 31,
   "id": "c7a5b8f9",
   "metadata": {},
   "outputs": [
    {
     "data": {
      "text/plain": [
       "<matplotlib.collections.PathCollection at 0x23cc3597460>"
      ]
     },
     "execution_count": 31,
     "metadata": {},
     "output_type": "execute_result"
    },
    {
     "data": {
      "image/png": "[encoded data removed]",
      "text/plain": [
       "<Figure size 432x288 with 1 Axes>"
      ]
     },
     "metadata": {
      "needs_background": "light"
     },
     "output_type": "display_data"
    }
   ],
   "source": [
    "import matplotlib.pyplot as plt\n",
    "plt.scatter(X_test[:,1],X_test[:,4],c = y_predict)"
   ]
  },
  {
   "cell_type": "code",
   "execution_count": null,
   "id": "f5eb3cdf",
   "metadata": {},
   "outputs": [],
   "source": []
  }
 ],
 "metadata": {
  "kernelspec": {
   "display_name": "Python 3 (ipykernel)",
   "language": "python",
   "name": "python3"
  },
  "language_info": {
   "codemirror_mode": {
    "name": "ipython",
    "version": 3
   },
   "file_extension": ".py",
   "mimetype": "text/x-python",
   "name": "python",
   "nbconvert_exporter": "python",
   "pygments_lexer": "ipython3",
   "version": "3.9.13"
  }
 },
 "nbformat": 4,
 "nbformat_minor": 5
}
